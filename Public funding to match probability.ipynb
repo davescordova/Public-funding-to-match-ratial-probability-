{
 "cells": [
  {
   "cell_type": "code",
   "execution_count": 2,
   "id": "b663f3e0-0a72-4f84-b138-cc2fb3db9139",
   "metadata": {},
   "outputs": [
    {
     "name": "stdout",
     "output_type": "stream",
     "text": [
      "12.282798833819243\n"
     ]
    }
   ],
   "source": [
    "branca = 0.4213/0.0343\n",
    "print(branca)"
   ]
  },
  {
   "cell_type": "code",
   "execution_count": 4,
   "id": "695f7667-5735-4409-855c-9433cff89f7d",
   "metadata": {},
   "outputs": [
    {
     "name": "stdout",
     "output_type": "stream",
     "text": [
      "e^12.282798833819243 = 215949.27774140172\n"
     ]
    }
   ],
   "source": [
    "import math\n",
    "\n",
    "# Número que será o expoente\n",
    "expoente = branca\n",
    "\n",
    "# Calculando e^expoente\n",
    "resultado = math.exp(branca)\n",
    "\n",
    "print(f\"e^{expoente} = {resultado}\")\n",
    "# Saída: e^3 ≈ 20.085536923187668"
   ]
  },
  {
   "cell_type": "code",
   "execution_count": 8,
   "id": "84ff2dad-91e0-4f43-bfc6-fda0e3c9864a",
   "metadata": {},
   "outputs": [
    {
     "name": "stdout",
     "output_type": "stream",
     "text": [
      "Results saved successfully to: C:\\Users\\daves\\OneDrive\\Pessoal\\Artigo\\TRE\\funding_comparison.xlsx\n",
      "\n",
      "Funding Needed to Match Election Probability of White Men:\n",
      "    Race    Gender  Δ log(Funding)          Multiplier               Interpretation\n",
      "   PRETA MASCULINO            12.4            238554.5            238554.5x funding\n",
      "   PRETA  FEMININO            38.8 68438086336100648.0 68438086336100648.0x funding\n",
      "  BRANCA  FEMININO            26.4      286886625390.3      286886625390.3x funding\n",
      "   PARDA MASCULINO             3.3                26.2                26.2x funding\n",
      "   PARDA  FEMININO            29.6     7508514982946.4     7508514982946.4x funding\n",
      " AMARELA MASCULINO            -8.3                 0.0                 0.0x funding\n",
      " AMARELA  FEMININO            18.1          73857421.7          73857421.7x funding\n",
      "INDIGENA MASCULINO            10.0             21577.6             21577.6x funding\n",
      "INDIGENA  FEMININO            36.4  6190329467030989.0  6190329467030989.0x funding\n",
      "\n",
      "Key Findings:\n",
      "- Black women need 68,438,086,336,100,648x the funding of white men\n",
      "- White women need 286,886,625,390x the funding of white men\n"
     ]
    }
   ],
   "source": [
    "import numpy as np\n",
    "import pandas as pd\n",
    "\n",
    "# Coefficients from the model (keeping Portuguese names as requested)\n",
    "coef = {\n",
    "    'AMARELA': 0.702,\n",
    "    'BRANCA': 0.421,  # White advantage over Black (reference)\n",
    "    'FEMININO': -0.897,\n",
    "    'FUNDO_ESPECIAL': 0.034,\n",
    "    'PARDA': 0.310,\n",
    "    'INDIGENA': 0.0817,  # Keeping from previous model\n",
    "    'Constante': -3.7351,  # Keeping constant from previous model\n",
    "    # Other controls\n",
    "    'ENSINO_FUNDAMENTAL_COMPLETO': -0.605,\n",
    "    'GOVERNADOR': 0.957,\n",
    "    'LOG_EDUCACAO': -0.157,\n",
    "    'LOG_SAUDE_ASSIST_SOCIAL': 0.142,\n",
    "    'PRESIDENTE': 0.968,\n",
    "    'REELEICAO': 2.356\n",
    "}\n",
    "\n",
    "def calculate_equivalent_funding(target_group, reference_group, coefficients):\n",
    "    \"\"\"Calculate how much more funding a group needs to match the reference group's election probability.\"\"\"\n",
    "    \n",
    "    def group_effect(race, gender):\n",
    "        coef_race = coefficients.get(race, 0)  # 0 for PRETA (Black)\n",
    "        coef_gender = coefficients['FEMININO'] if gender == 'FEMININO' else 0\n",
    "        return coef_race + coef_gender\n",
    "    \n",
    "    target_effect = group_effect(*target_group)\n",
    "    reference_effect = group_effect(*reference_group)\n",
    "    effect_difference = reference_effect - target_effect\n",
    "    \n",
    "    # Campaign fund coefficient\n",
    "    beta_fund = coefficients['FUNDO_ESPECIAL']\n",
    "    \n",
    "    if beta_fund == 0:\n",
    "        return (np.inf, np.inf)\n",
    "    \n",
    "    log_difference = effect_difference / beta_fund\n",
    "    multiplier = np.exp(log_difference)\n",
    "    \n",
    "    return (log_difference, multiplier)\n",
    "\n",
    "# Reference group (White male)\n",
    "REFERENCE = ('BRANCA', 'MASCULINO')\n",
    "\n",
    "# Groups for comparison\n",
    "groups = [\n",
    "    ('PRETA', 'MASCULINO'),     # Black male\n",
    "    ('PRETA', 'FEMININO'),      # Black female\n",
    "    ('BRANCA', 'FEMININO'),     # White female\n",
    "    ('PARDA', 'MASCULINO'),     # Brown male\n",
    "    ('PARDA', 'FEMININO'),      # Brown female\n",
    "    ('AMARELA', 'MASCULINO'),   # Asian male\n",
    "    ('AMARELA', 'FEMININO'),    # Asian female\n",
    "    ('INDIGENA', 'MASCULINO'),  # Indigenous male\n",
    "    ('INDIGENA', 'FEMININO')    # Indigenous female\n",
    "]\n",
    "\n",
    "# Calculate results\n",
    "results = []\n",
    "for group in groups:\n",
    "    log_diff, multiplier = calculate_equivalent_funding(group, REFERENCE, coef)\n",
    "    results.append({\n",
    "        'Race': group[0],\n",
    "        'Gender': group[1],\n",
    "        'Δ log(Funding)': log_diff,\n",
    "        'Multiplier': multiplier,\n",
    "        'Interpretation': f\"Equal\" if multiplier == 1 else f\"{multiplier:.1f}x funding\"\n",
    "    })\n",
    "\n",
    "# Create comparison table\n",
    "results_table = pd.DataFrame(results)\n",
    "\n",
    "# Save to Excel file\n",
    "output_path = r'C:\\Users\\daves\\OneDrive\\Pessoal\\Artigo\\TRE\\funding_comparison.xlsx'\n",
    "results_table.to_excel(output_path, index=False, float_format=\"%.2f\")\n",
    "\n",
    "print(f\"Results saved successfully to: {output_path}\")\n",
    "\n",
    "# Print summary to console\n",
    "print(\"\\nFunding Needed to Match Election Probability of White Men:\")\n",
    "print(results_table.to_string(float_format=\"%.1f\", index=False))\n",
    "\n",
    "# Special cases\n",
    "black_women_log_diff, black_women_mult = calculate_equivalent_funding(\n",
    "    ('PRETA', 'FEMININO'), REFERENCE, coef)\n",
    "white_women_log_diff, white_women_mult = calculate_equivalent_funding(\n",
    "    ('BRANCA', 'FEMININO'), REFERENCE, coef)\n",
    "\n",
    "print(f\"\\nKey Findings:\")\n",
    "print(f\"- Black women need {black_women_mult:,.0f}x the funding of white men\")\n",
    "print(f\"- White women need {white_women_mult:,.0f}x the funding of white men\")"
   ]
  },
  {
   "cell_type": "code",
   "execution_count": null,
   "id": "34e8da44-7a10-426d-a8cd-cd39a6b68cd4",
   "metadata": {},
   "outputs": [],
   "source": []
  }
 ],
 "metadata": {
  "kernelspec": {
   "display_name": "Python [conda env:base] *",
   "language": "python",
   "name": "conda-base-py"
  },
  "language_info": {
   "codemirror_mode": {
    "name": "ipython",
    "version": 3
   },
   "file_extension": ".py",
   "mimetype": "text/x-python",
   "name": "python",
   "nbconvert_exporter": "python",
   "pygments_lexer": "ipython3",
   "version": "3.12.9"
  }
 },
 "nbformat": 4,
 "nbformat_minor": 5
}
