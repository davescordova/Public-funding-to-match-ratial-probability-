{
 "cells": [
  {
   "cell_type": "code",
   "execution_count": 2,
   "id": "b663f3e0-0a72-4f84-b138-cc2fb3db9139",
   "metadata": {},
   "outputs": [
    {
     "name": "stdout",
     "output_type": "stream",
     "text": [
      "11.769461077844312\n"
     ]
    }
   ],
   "source": [
    "branca = 0.3931/0.0334\n",
    "print(branca)"
   ]
  },
  {
   "cell_type": "code",
   "execution_count": 3,
   "id": "695f7667-5735-4409-855c-9433cff89f7d",
   "metadata": {},
   "outputs": [
    {
     "name": "stdout",
     "output_type": "stream",
     "text": [
      "e^11.769461077844312 = 129244.47926537614\n"
     ]
    }
   ],
   "source": [
    "import math\n",
    "\n",
    "# Número que será o expoente\n",
    "expoente = branca\n",
    "\n",
    "# Calculando e^expoente\n",
    "resultado = math.exp(branca)\n",
    "\n",
    "print(f\"e^{expoente} = {resultado}\")\n",
    "# Saída: e^3 ≈ 20.085536923187668"
   ]
  },
  {
   "cell_type": "code",
   "execution_count": 4,
   "id": "84ff2dad-91e0-4f43-bfc6-fda0e3c9864a",
   "metadata": {},
   "outputs": [
    {
     "name": "stdout",
     "output_type": "stream",
     "text": [
      "Financiamento Necessário para Igualar Probabilidade de Eleição de Homens Brancos:\n",
      "    Raça    Gênero  Δ log(Financiamento)  Fator Multiplicativo                      Interpretação\n",
      "   PRETA MASCULINO                  11.8              129244.5            129244.5x financiamento\n",
      "   PRETA  FEMININO                  38.5   50064862437228456.0 50064862437228456.0x financiamento\n",
      "  BRANCA  FEMININO                  26.7        387365578180.2      387365578180.2x financiamento\n",
      "   PARDA MASCULINO                   2.8                  16.2                16.2x financiamento\n",
      "   PARDA  FEMININO                  29.5       6290488711720.0     6290488711720.0x financiamento\n",
      " AMARELA MASCULINO                  -9.2                   0.0                 0.0x financiamento\n",
      " AMARELA  FEMININO                  17.4            37622535.3          37622535.3x financiamento\n",
      "INDIGENA MASCULINO                   9.3               11196.5             11196.5x financiamento\n",
      "INDIGENA  FEMININO                  36.0    4337124752078314.5  4337124752078314.5x financiamento\n",
      "\n",
      "Candidatas mulheres negras precisam de 50,064,862,437,228,456 vezes \n",
      "o financiamento de homens brancos para ter probabilidade igual de eleição\n",
      "Candidatas mulheres brancas precisam de 387,365,578,180 vezes \n",
      "o financiamento de homens brancos\n",
      "\n",
      "Equação de probabilidade para candidato homem branco:\n",
      "P = 1 / (1 + e^(-(β0 + β_BRANCA + outros_controles)))\n"
     ]
    }
   ],
   "source": [
    "import numpy as np\n",
    "import pandas as pd\n",
    "\n",
    "# Coefficients from Model 5 (most complete model)\n",
    "coef = {\n",
    "    'AMARELA': 0.7017,\n",
    "    'BRANCA': 0.3931,  # White advantage over Black (reference)\n",
    "    'FEMININO': -0.8912,\n",
    "    'FUNDO_ESPECIAL': 0.0334,\n",
    "    'PARDA': 0.3000,\n",
    "    'INDIGENA': 0.0817,\n",
    "    'Constante': -3.7351,\n",
    "    # Other controls (kept constant in comparison)\n",
    "    'ENSINO_FUNDAMENTAL_COMPLETO': -0.6243,\n",
    "    'GOVERNADOR': 0.9913,\n",
    "    'LOG_EDUCACAO': -0.1503,\n",
    "    'LOG_SAUDE_ASSIST_SOCIAL': 0.1387,\n",
    "    'PRESIDENTE': 0.9931,\n",
    "    'REELEICAO': 2.3309\n",
    "}\n",
    "\n",
    "def calcular_fundo_equivalente(grupo_alvo, grupo_referencia, coeficientes):\n",
    "    \"\"\"\n",
    "    Calcula quanto financiamento adicional um grupo-alvo precisa para igualar \n",
    "    a probabilidade de eleição do grupo de referência.\n",
    "    \n",
    "    Parâmetros:\n",
    "    grupo_alvo: tupla - (raça, gênero) do grupo sendo analisado\n",
    "    grupo_referencia: tupla - (raça, gênero) do grupo de referência\n",
    "    coeficientes: dict - Coeficientes do modelo\n",
    "    \n",
    "    Retorna:\n",
    "    (diferenca_log, fator) - (diferença em log necessária, fator multiplicativo)\n",
    "    \"\"\"\n",
    "    def efeito_grupo(raca, genero):\n",
    "        coef_raca = coeficientes.get(raca, 0)  # 0 para PRETA\n",
    "        coef_genero = coeficientes['FEMININO'] if genero == 'FEMININO' else 0\n",
    "        return coef_raca + coef_genero\n",
    "    \n",
    "    efeito_alvo = efeito_grupo(*grupo_alvo)\n",
    "    efeito_referencia = efeito_grupo(*grupo_referencia)\n",
    "    diferenca_efeito = efeito_referencia - efeito_alvo\n",
    "    \n",
    "    # Coeficiente do fundo de campanha\n",
    "    beta_fundo = coeficientes['FUNDO_ESPECIAL']\n",
    "    \n",
    "    if beta_fundo == 0:\n",
    "        return (np.inf, np.inf)\n",
    "    \n",
    "    diferenca_log = diferenca_efeito / beta_fundo\n",
    "    fator = np.exp(diferenca_log)\n",
    "    \n",
    "    return (diferenca_log, fator)\n",
    "\n",
    "# Grupo de referência (Homem branco)\n",
    "REFERENCIA = ('BRANCA', 'MASCULINO')\n",
    "\n",
    "# Grupos para comparação\n",
    "grupos = [\n",
    "    ('PRETA', 'MASCULINO'),\n",
    "    ('PRETA', 'FEMININO'),\n",
    "    ('BRANCA', 'FEMININO'),  # Mulheres brancas\n",
    "    ('PARDA', 'MASCULINO'),\n",
    "    ('PARDA', 'FEMININO'),\n",
    "    ('AMARELA', 'MASCULINO'),\n",
    "    ('AMARELA', 'FEMININO'),\n",
    "    ('INDIGENA', 'MASCULINO'),\n",
    "    ('INDIGENA', 'FEMININO')\n",
    "]\n",
    "\n",
    "# Calcular resultados\n",
    "resultados = []\n",
    "for grupo in grupos:\n",
    "    diferenca_log, fator = calcular_fundo_equivalente(grupo, REFERENCIA, coef)\n",
    "    resultados.append({\n",
    "        'Raça': grupo[0],\n",
    "        'Gênero': grupo[1],\n",
    "        'Δ log(Financiamento)': diferenca_log,\n",
    "        'Fator Multiplicativo': fator,\n",
    "        'Interpretação': f\"Igual\" if fator == 1 else f\"{fator:.1f}x financiamento\"\n",
    "    })\n",
    "\n",
    "# Criar tabela de comparação\n",
    "tabela_resultados = pd.DataFrame(resultados)\n",
    "print(\"Financiamento Necessário para Igualar Probabilidade de Eleição de Homens Brancos:\")\n",
    "print(tabela_resultados.to_string(float_format=\"%.1f\", index=False))\n",
    "\n",
    "# Caso especial: Candidatas mulheres negras\n",
    "diferenca_mulher_negra, fator_mulher_negra = calcular_fundo_equivalente(\n",
    "    ('PRETA', 'FEMININO'), REFERENCIA, coef)\n",
    "print(f\"\\nCandidatas mulheres negras precisam de {fator_mulher_negra:,.0f} vezes \")\n",
    "print(f\"o financiamento de homens brancos para ter probabilidade igual de eleição\")\n",
    "\n",
    "# Caso mulheres brancas\n",
    "diferenca_mulher_branca, fator_mulher_branca = calcular_fundo_equivalente(\n",
    "    ('BRANCA', 'FEMININO'), REFERENCIA, coef)\n",
    "print(f\"Candidatas mulheres brancas precisam de {fator_mulher_branca:,.0f} vezes \")\n",
    "print(f\"o financiamento de homens brancos\")\n",
    "\n",
    "# Mostrar equação de probabilidade\n",
    "print(\"\\nEquação de probabilidade para candidato homem branco:\")\n",
    "print(f\"P = 1 / (1 + e^(-(β0 + β_BRANCA + outros_controles)))\")"
   ]
  },
  {
   "cell_type": "code",
   "execution_count": null,
   "id": "34e8da44-7a10-426d-a8cd-cd39a6b68cd4",
   "metadata": {},
   "outputs": [],
   "source": []
  }
 ],
 "metadata": {
  "kernelspec": {
   "display_name": "Python [conda env:base] *",
   "language": "python",
   "name": "conda-base-py"
  },
  "language_info": {
   "codemirror_mode": {
    "name": "ipython",
    "version": 3
   },
   "file_extension": ".py",
   "mimetype": "text/x-python",
   "name": "python",
   "nbconvert_exporter": "python",
   "pygments_lexer": "ipython3",
   "version": "3.12.9"
  }
 },
 "nbformat": 4,
 "nbformat_minor": 5
}
